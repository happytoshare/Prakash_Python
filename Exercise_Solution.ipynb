{
 "cells": [
  {
   "cell_type": "markdown",
   "metadata": {},
   "source": [
    "## Python List Datatype - Exercise with Solution"
   ]
  },
  {
   "cell_type": "markdown",
   "metadata": {},
   "source": [
    "#### Exercise 1: Write a Python program to sum all the items in a list"
   ]
  },
  {
   "cell_type": "markdown",
   "metadata": {},
   "source": [
    "#### First go thro' the problem clearly. Here, we need to write Python program to \"sum all the items in a list\". So, it must be integer list, hence we need to create a integer list then sum up all the elements in the list."
   ]
  },
  {
   "cell_type": "code",
   "execution_count": 1,
   "metadata": {},
   "outputs": [
    {
     "name": "stdout",
     "output_type": "stream",
     "text": [
      "313\n"
     ]
    }
   ],
   "source": [
    "a=[1,10,11,100,45,34,23,89]\n",
    "print(sum(a))"
   ]
  },
  {
   "cell_type": "markdown",
   "metadata": {},
   "source": [
    "#### Above is simple and straight forward method. ie., we've used python method to summing up all the elements in the list."
   ]
  },
  {
   "cell_type": "markdown",
   "metadata": {},
   "source": [
    "#### Method 2: The same can be done by calling all the elements in loop"
   ]
  },
  {
   "cell_type": "code",
   "execution_count": 5,
   "metadata": {},
   "outputs": [
    {
     "name": "stdout",
     "output_type": "stream",
     "text": [
      "313\n"
     ]
    }
   ],
   "source": [
    "a=[1,10,11,100,45,34,23,89]\n",
    "sum=0\n",
    "for i in a:\n",
    "    sum=sum+i\n",
    "    #print(sum)\n",
    "print(sum)"
   ]
  },
  {
   "cell_type": "markdown",
   "metadata": {},
   "source": [
    "#### Method 3: We can also do the samething by writing our own method to summing up all the elements"
   ]
  },
  {
   "cell_type": "code",
   "execution_count": 14,
   "metadata": {},
   "outputs": [
    {
     "data": {
      "text/plain": [
       "313"
      ]
     },
     "execution_count": 14,
     "metadata": {},
     "output_type": "execute_result"
    }
   ],
   "source": [
    "def sum_list(b):\n",
    "    sum=0\n",
    "    for i in b:\n",
    "        sum=sum+i\n",
    "    return sum\n",
    "a=[1,10,11,100,45,34,23,89]\n",
    "sum_list(a)\n",
    "# or sum_list([1,10,11,100,45,34,23,89])"
   ]
  },
  {
   "cell_type": "markdown",
   "metadata": {},
   "source": [
    "#### Exercise 2 : Write a Python program to multiplies all the items in a list"
   ]
  },
  {
   "cell_type": "markdown",
   "metadata": {},
   "source": [
    "#### Method 1 : Using loop"
   ]
  },
  {
   "cell_type": "code",
   "execution_count": 33,
   "metadata": {},
   "outputs": [
    {
     "name": "stdout",
     "output_type": "stream",
     "text": [
      "720\n"
     ]
    }
   ],
   "source": [
    "a=[1,2,3,4,5,6]\n",
    "tot=1\n",
    "for i in a:\n",
    "    tot=tot * i\n",
    "print(tot)"
   ]
  },
  {
   "cell_type": "markdown",
   "metadata": {},
   "source": [
    "#### Method 2: By creating our own method"
   ]
  },
  {
   "cell_type": "code",
   "execution_count": 39,
   "metadata": {},
   "outputs": [
    {
     "name": "stdout",
     "output_type": "stream",
     "text": [
      "Multiplication of all the elements in the list =  720\n"
     ]
    }
   ],
   "source": [
    "def tot(b):\n",
    "    result=1\n",
    "    for i in b:\n",
    "        result=result*i\n",
    "    print(\"Multiplication of all the elements in the list = \",result)\n",
    "a=[1,2,3,4,5,6]\n",
    "tot(a)"
   ]
  },
  {
   "cell_type": "markdown",
   "metadata": {},
   "source": [
    "#### Exercise 3: Write a Python program to get the largest number from a list"
   ]
  },
  {
   "cell_type": "markdown",
   "metadata": {},
   "source": [
    "#### Method 1: Using Loop"
   ]
  },
  {
   "cell_type": "code",
   "execution_count": 44,
   "metadata": {},
   "outputs": [
    {
     "name": "stdout",
     "output_type": "stream",
     "text": [
      "1\n",
      "100\n"
     ]
    }
   ],
   "source": [
    "a=[1,10,11,100,45,34,23,89]\n",
    "max=a[0]\n",
    "for i in a:\n",
    "    if i>max:\n",
    "        max=i\n",
    "print(max)"
   ]
  },
  {
   "cell_type": "markdown",
   "metadata": {},
   "source": [
    "####  Method 2 :  By creating our own method"
   ]
  },
  {
   "cell_type": "code",
   "execution_count": 45,
   "metadata": {},
   "outputs": [
    {
     "name": "stdout",
     "output_type": "stream",
     "text": [
      "100\n"
     ]
    }
   ],
   "source": [
    "def max_list(b):\n",
    "    max=b[0]\n",
    "    for i in b:\n",
    "        if i > max:\n",
    "            max=i\n",
    "    print(max)\n",
    "a=[1,10,11,100,45,34,23,89]\n",
    "max_list(a)"
   ]
  },
  {
   "cell_type": "code",
   "execution_count": 50,
   "metadata": {},
   "outputs": [
    {
     "name": "stdout",
     "output_type": "stream",
     "text": [
      "1\n"
     ]
    }
   ],
   "source": [
    "#Minimum number in the lists\n",
    "\n",
    "def min_list(b):\n",
    "    min=b[0]\n",
    "    for i in b:\n",
    "        if i < min:\n",
    "            min=i\n",
    "    print(min)\n",
    "a=[10,11,100,45,1,34,23,89]\n",
    "min_list(a)"
   ]
  },
  {
   "cell_type": "markdown",
   "metadata": {},
   "source": [
    "#### Exercise 4: Write a Python program to count the number of strings where the string length is 2 or more and the first and last character are same from a given list of strings.\n",
    "\n",
    "#### Sample List : ['abc', 'xyz', 'aba', '1221']"
   ]
  },
  {
   "cell_type": "code",
   "execution_count": 89,
   "metadata": {},
   "outputs": [
    {
     "name": "stdout",
     "output_type": "stream",
     "text": [
      "Element greater then two characters in length =  5\n"
     ]
    }
   ],
   "source": [
    "a= ['ab', 'xyz', 'aba', '1221','abcdedfa','lkdjflasfdjklasdl']\n",
    "count=0\n",
    "for i in a:\n",
    "    if(len(i)>2):\n",
    "        count=count+1\n",
    "print(\"Element greater then two characters in length = \",count)"
   ]
  },
  {
   "cell_type": "code",
   "execution_count": 92,
   "metadata": {},
   "outputs": [
    {
     "name": "stdout",
     "output_type": "stream",
     "text": [
      "First and last element equal list element count =  3\n"
     ]
    }
   ],
   "source": [
    "a= ['ab', 'xyz', 'aba', '1221','abcdedfa','lkdjflasfdjklasd']\n",
    "count=0\n",
    "for i in a:\n",
    "    if (len(i)>2 and i[0]==i[-1]):\n",
    "        count=count+1\n",
    "print(\"First and last element equal list element count = \",count)"
   ]
  },
  {
   "cell_type": "code",
   "execution_count": 112,
   "metadata": {},
   "outputs": [
    {
     "name": "stdout",
     "output_type": "stream",
     "text": [
      "First and last element equal list element count =  2\n"
     ]
    }
   ],
   "source": [
    "def first_last_equal(b):\n",
    "    count=0\n",
    "    for i in b:\n",
    "        if (len(i)>2 and i[0]==i[-1]):\n",
    "            count=count+1\n",
    "    print(\"First and last element equal list element count = \",count)\n",
    "a= ['ab', 'xyz', 'aba', '1221','lkdjflasfdjklasd']\n",
    "first_last_equal(a)"
   ]
  },
  {
   "cell_type": "markdown",
   "metadata": {},
   "source": [
    "#### Exercise 5 : Write a Python program to check a list is empty or not"
   ]
  },
  {
   "cell_type": "code",
   "execution_count": 122,
   "metadata": {},
   "outputs": [
    {
     "name": "stdout",
     "output_type": "stream",
     "text": [
      "List is Empty\n",
      "List is not Empty\n"
     ]
    }
   ],
   "source": [
    "#Method 1\n",
    "a= []\n",
    "if not a:\n",
    "    print(\"List is Empty\")\n",
    "else:\n",
    "    print(\"List is not Empty\")\n",
    "\n",
    "#Method 2:\n",
    "def find_empty(b):\n",
    "    if (len(b)==0):\n",
    "        print(\"List is Empty\")\n",
    "    else:\n",
    "        print(\"List is not Empty\")\n",
    "a= ['1','2']\n",
    "find_empty(a)"
   ]
  },
  {
   "cell_type": "markdown",
   "metadata": {},
   "source": [
    "#### Exercise 6: Write a Python program to remove duplicates from a list"
   ]
  },
  {
   "cell_type": "code",
   "execution_count": 185,
   "metadata": {},
   "outputs": [
    {
     "name": "stdout",
     "output_type": "stream",
     "text": [
      "[10, 11, 12, 13, 23]\n"
     ]
    }
   ],
   "source": [
    "def remove_duplicate(b):\n",
    "    dup_count=[]\n",
    "    for i in a:\n",
    "        if i not in dup_count:\n",
    "            dup_count.append(i)\n",
    "    print(dup_count)\n",
    "a=[10,11,10,12,10,13,23]\n",
    "remove_duplicate(a)"
   ]
  },
  {
   "cell_type": "markdown",
   "metadata": {},
   "source": [
    "####  Exercise 7 : Write a Python program to clone or copy a list"
   ]
  },
  {
   "cell_type": "code",
   "execution_count": 213,
   "metadata": {},
   "outputs": [
    {
     "name": "stdout",
     "output_type": "stream",
     "text": [
      "[10, 11, 12, 13, 23]\n",
      "[10, 11, 12, 13, 23]\n"
     ]
    }
   ],
   "source": [
    "a=[10, 11, 12, 13, 23]\n",
    "b=a[:]\n",
    "print(a)\n",
    "print(b)"
   ]
  },
  {
   "cell_type": "markdown",
   "metadata": {},
   "source": [
    "#### Exercise 8 : Write a Python program to find the list of words that are longer than n from a given list of words."
   ]
  },
  {
   "cell_type": "code",
   "execution_count": 214,
   "metadata": {},
   "outputs": [
    {
     "data": {
      "text/plain": [
       "['over the lazy dog']"
      ]
     },
     "execution_count": 214,
     "metadata": {},
     "output_type": "execute_result"
    }
   ],
   "source": [
    "def long_words1(n,b):\n",
    "    txt=a.split(\",\")\n",
    "    wordLen=[]\n",
    "    for x in txt:\n",
    "        if len(x) > n:\n",
    "            wordLen.append(x)\n",
    "    return(wordLen)\n",
    "a=(\"The quick,brown fox,jumps,over the lazy dog\")\n",
    "long_words1(15,a)"
   ]
  },
  {
   "cell_type": "markdown",
   "metadata": {},
   "source": [
    "#### Exercise 9 : Write a Python function that takes two lists and returns True if they have at least one common member"
   ]
  },
  {
   "cell_type": "code",
   "execution_count": 244,
   "metadata": {},
   "outputs": [
    {
     "name": "stdout",
     "output_type": "stream",
     "text": [
      "[23, 47]\n"
     ]
    }
   ],
   "source": [
    "a=[1,2,3,34,45,34,4,5,35,36,23,36,47,35]\n",
    "b=[44,51,47,23]\n",
    "c=[]\n",
    "for i in a:\n",
    "    for j in b:\n",
    "        if (i==j):\n",
    "            c.append(i)\n",
    "print(c)"
   ]
  },
  {
   "cell_type": "markdown",
   "metadata": {},
   "source": [
    "#### Exercise 10 : Write a Python program to print a specified list after removing the 0th, 4th and 5th elements\n",
    "#### Sample List : ['Red', 'Green', 'White', 'Black', 'Pink', 'Yellow']\n",
    "#### Expected Output : ['Green', 'White', 'Black']"
   ]
  },
  {
   "cell_type": "code",
   "execution_count": 248,
   "metadata": {},
   "outputs": [
    {
     "name": "stdout",
     "output_type": "stream",
     "text": [
      "['Green', 'White', 'Black']\n"
     ]
    }
   ],
   "source": [
    "a=['Red', 'Green', 'White', 'Black', 'Pink', 'Yellow']\n",
    "b=a[1:4:]\n",
    "print(b)"
   ]
  },
  {
   "cell_type": "markdown",
   "metadata": {},
   "source": [
    "#### Exercise 11 : Write a Python program to print the numbers of a specified list after removing even numbers from it"
   ]
  },
  {
   "cell_type": "code",
   "execution_count": 259,
   "metadata": {},
   "outputs": [
    {
     "name": "stdout",
     "output_type": "stream",
     "text": [
      "Even numbers in the list :  [10, 12, 2]\n",
      "Odd Numbers in the list :  [11, 13, 3]\n"
     ]
    }
   ],
   "source": [
    "a=[10, 11, 12, 13, 2,3]\n",
    "b=[]\n",
    "c=[]\n",
    "for x in a:\n",
    "    if (x%2==0):\n",
    "        b.append(x)\n",
    "    else:\n",
    "        c.append(x)\n",
    "print(\"Even numbers in the list : \",b)\n",
    "print(\"Odd Numbers in the list : \",c)"
   ]
  },
  {
   "cell_type": "markdown",
   "metadata": {},
   "source": [
    "#### Exercise 1 2: Write a Python program to shuffle and print a specified list."
   ]
  },
  {
   "cell_type": "code",
   "execution_count": 281,
   "metadata": {},
   "outputs": [
    {
     "name": "stdout",
     "output_type": "stream",
     "text": [
      "[11, 12, 3, 2, 13, 10]\n"
     ]
    }
   ],
   "source": [
    "import random as rdm\n",
    "a=[10, 11, 12, 13, 2,3]\n",
    "rdm.shuffle(a)\n",
    "print(a)"
   ]
  },
  {
   "cell_type": "code",
   "execution_count": 320,
   "metadata": {},
   "outputs": [
    {
     "name": "stdout",
     "output_type": "stream",
     "text": [
      "' p 1 ' , ' q 1 '\n",
      "' p 2 ' , ' q 2 '\n",
      "' p 3 ' , ' q 3 '\n",
      "' p 4 ' , ' q 4 '\n",
      "' p 5 ' , ' q 5 '\n"
     ]
    }
   ],
   "source": [
    "a=[\"p\",\"q\"]\n",
    "n = 1\n",
    "while (n < 6):\n",
    "    print(\"'\",a[0],n,\"'\",\",\",\"'\",a[1],n,\"'\")\n",
    "    n = n + 1"
   ]
  },
  {
   "cell_type": "code",
   "execution_count": 322,
   "metadata": {},
   "outputs": [
    {
     "name": "stdout",
     "output_type": "stream",
     "text": [
      "['p1', 'q1', 'p2', 'q2', 'p3', 'q3', 'p4', 'q4']\n"
     ]
    }
   ],
   "source": [
    "my_list = ['p', 'q']\n",
    "n=4\n",
    "new_list = ['{}{}'.format(x, y) for y in range(1, n+1) for x in my_list]\n",
    "print(new_list)"
   ]
  },
  {
   "cell_type": "code",
   "execution_count": 333,
   "metadata": {},
   "outputs": [
    {
     "name": "stdout",
     "output_type": "stream",
     "text": [
      "[1, 4, 9, 16, 25]\n",
      "[36, 49, 64, 81]\n"
     ]
    }
   ],
   "source": [
    "l=list()\n",
    "for i in range(1,10):\n",
    "    l.append(i**2)\n",
    "print(l[:5])\n",
    "print(l[5:])"
   ]
  }
 ],
 "metadata": {
  "kernelspec": {
   "display_name": "Python 3",
   "language": "python",
   "name": "python3"
  },
  "language_info": {
   "codemirror_mode": {
    "name": "ipython",
    "version": 3
   },
   "file_extension": ".py",
   "mimetype": "text/x-python",
   "name": "python",
   "nbconvert_exporter": "python",
   "pygments_lexer": "ipython3",
   "version": "3.7.0"
  }
 },
 "nbformat": 4,
 "nbformat_minor": 2
}
