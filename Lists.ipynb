{
 "cells": [
  {
   "cell_type": "markdown",
   "metadata": {},
   "source": [
    "# LISTS IN PYTHON\n",
    "\n",
    "List is a collection which is ordered and changeable. Allows duplicate members."
   ]
  },
  {
   "cell_type": "markdown",
   "metadata": {},
   "source": [
    "## Creating List"
   ]
  },
  {
   "cell_type": "code",
   "execution_count": 6,
   "metadata": {},
   "outputs": [],
   "source": [
    "a=[\"Sunday\",\"Tuesday\",\"Wednesday\"]"
   ]
  },
  {
   "cell_type": "markdown",
   "metadata": {},
   "source": [
    "#### Calling List"
   ]
  },
  {
   "cell_type": "code",
   "execution_count": 8,
   "metadata": {},
   "outputs": [
    {
     "name": "stdout",
     "output_type": "stream",
     "text": [
      "['Sunday', 'Monday', 'Tuesday']\n"
     ]
    }
   ],
   "source": [
    "print(a)"
   ]
  },
  {
   "cell_type": "markdown",
   "metadata": {},
   "source": [
    "#### Access Items\n",
    "You access the list items by referring to the index number."
   ]
  },
  {
   "cell_type": "code",
   "execution_count": 16,
   "metadata": {},
   "outputs": [
    {
     "name": "stdout",
     "output_type": "stream",
     "text": [
      "Sunday\n"
     ]
    }
   ],
   "source": [
    "a=[\"Sunday\",\"Tuesday\",\"Wednesday\"]\n",
    "print(a[0])"
   ]
  },
  {
   "cell_type": "code",
   "execution_count": 17,
   "metadata": {},
   "outputs": [
    {
     "name": "stdout",
     "output_type": "stream",
     "text": [
      "Monday\n"
     ]
    }
   ],
   "source": [
    "print(a[1])"
   ]
  },
  {
   "cell_type": "code",
   "execution_count": 18,
   "metadata": {},
   "outputs": [
    {
     "name": "stdout",
     "output_type": "stream",
     "text": [
      "Tuesday\n"
     ]
    }
   ],
   "source": [
    "print(a[2])"
   ]
  },
  {
   "cell_type": "markdown",
   "metadata": {},
   "source": [
    "#### Change Item Value\n",
    "To change the value of a specific item, refer to the index number."
   ]
  },
  {
   "cell_type": "code",
   "execution_count": 25,
   "metadata": {},
   "outputs": [
    {
     "name": "stdout",
     "output_type": "stream",
     "text": [
      "['Sunday', 'Monday', 'Wednesday']\n"
     ]
    }
   ],
   "source": [
    "a=[\"Sunday\",\"Tuesday\",\"Wednesday\"]\n",
    "a[1]=\"Monday\"\n",
    "print(a)"
   ]
  },
  {
   "cell_type": "markdown",
   "metadata": {},
   "source": [
    "#### Add Items\n",
    "To add an item to the end of the list, use the append() method.\n",
    "\n",
    "Ex: list.append(\"<list_value>\")"
   ]
  },
  {
   "cell_type": "code",
   "execution_count": 38,
   "metadata": {},
   "outputs": [
    {
     "name": "stdout",
     "output_type": "stream",
     "text": [
      "['Sunday', 'Tuesday', 'Wednesday', 'Monday']\n"
     ]
    }
   ],
   "source": [
    "a=[\"Sunday\",\"Tuesday\",\"Wednesday\"]\n",
    "a.append(\"Monday\")\n",
    "print(a)"
   ]
  },
  {
   "cell_type": "markdown",
   "metadata": {},
   "source": [
    "##### To add an item at the specified index, use the insert() method:"
   ]
  },
  {
   "cell_type": "code",
   "execution_count": 40,
   "metadata": {},
   "outputs": [
    {
     "name": "stdout",
     "output_type": "stream",
     "text": [
      "['Sunday', 'Monday', 'Tuesday', 'Wednesday']\n"
     ]
    }
   ],
   "source": [
    "a=[\"Sunday\",\"Tuesday\",\"Wednesday\"]\n",
    "a.insert(1, \"Monday\")\n",
    "print(a)"
   ]
  },
  {
   "cell_type": "markdown",
   "metadata": {},
   "source": [
    "#### Loop Through a List\n",
    "You can loop through the list items by using a for loop."
   ]
  },
  {
   "cell_type": "code",
   "execution_count": 41,
   "metadata": {},
   "outputs": [
    {
     "name": "stdout",
     "output_type": "stream",
     "text": [
      "Sunday\n",
      "Monday\n",
      "Tuesday\n",
      "Wednesday\n"
     ]
    }
   ],
   "source": [
    "a=['Sunday', 'Monday', 'Tuesday', 'Wednesday']\n",
    "for i in a:\n",
    "    print(i)"
   ]
  },
  {
   "cell_type": "markdown",
   "metadata": {},
   "source": [
    "#### Check if Item Exists\n",
    "To determine if a specified item is present in a list use the in keyword:"
   ]
  },
  {
   "cell_type": "code",
   "execution_count": 34,
   "metadata": {},
   "outputs": [
    {
     "name": "stdout",
     "output_type": "stream",
     "text": [
      "Yes Tuesday exists in this list\n"
     ]
    }
   ],
   "source": [
    "a=['Sunday', 'Tuesday', 'Wednesday', 'Monday']\n",
    "if 'Tuesday' in a:\n",
    "    print('Yes Tuesday exists in this list')"
   ]
  },
  {
   "cell_type": "markdown",
   "metadata": {},
   "source": [
    "#### List Length\n",
    "To determine how many items a list have, use the len() method."
   ]
  },
  {
   "cell_type": "code",
   "execution_count": 50,
   "metadata": {},
   "outputs": [
    {
     "data": {
      "text/plain": [
       "4"
      ]
     },
     "execution_count": 50,
     "metadata": {},
     "output_type": "execute_result"
    }
   ],
   "source": [
    "a=['Sunday', 'Tuesday', 'Wednesday', 'Monday']\n",
    "len(a) #or print(len(a))"
   ]
  },
  {
   "cell_type": "markdown",
   "metadata": {},
   "source": [
    "#### Remove Item from the List.\n",
    "There are several methods to remove items from a list."
   ]
  },
  {
   "cell_type": "markdown",
   "metadata": {},
   "source": [
    "#### First Method: The remove() method removes the specified item:\n",
    "a.remove(\"Sunday\")"
   ]
  },
  {
   "cell_type": "code",
   "execution_count": 51,
   "metadata": {},
   "outputs": [
    {
     "name": "stdout",
     "output_type": "stream",
     "text": [
      "['Tuesday', 'Wednesday', 'Monday']\n"
     ]
    }
   ],
   "source": [
    "a.remove(\"Sunday\")\n",
    "print(a)"
   ]
  },
  {
   "cell_type": "markdown",
   "metadata": {},
   "source": [
    "#### Second Method - POP(): \n",
    "The pop() method removes the specified index, (or the last item if index is not specified):"
   ]
  },
  {
   "cell_type": "code",
   "execution_count": 52,
   "metadata": {},
   "outputs": [
    {
     "name": "stdout",
     "output_type": "stream",
     "text": [
      "['Tuesday', 'Wednesday']\n"
     ]
    }
   ],
   "source": [
    "a.pop()\n",
    "print(a)"
   ]
  },
  {
   "cell_type": "markdown",
   "metadata": {},
   "source": [
    "#### Third Method - delete\n",
    "The del keyword removes the specified index and the del keyword can also delete the list completely."
   ]
  },
  {
   "cell_type": "code",
   "execution_count": 56,
   "metadata": {},
   "outputs": [
    {
     "name": "stdout",
     "output_type": "stream",
     "text": [
      "['Tuesday', 'Wednesday', 'Monday']\n"
     ]
    }
   ],
   "source": [
    "a=['Sunday', 'Tuesday', 'Wednesday', 'Monday']\n",
    "del a[0] \n",
    "print(a)\n",
    "#Note: del a --> This will delete the list completely. After this if you execute print(a) then this will cause an error because the list \"a\" no longer exists."
   ]
  },
  {
   "cell_type": "markdown",
   "metadata": {},
   "source": [
    "#### Fourth Method\n",
    "The clear() method empties the list."
   ]
  },
  {
   "cell_type": "code",
   "execution_count": 58,
   "metadata": {},
   "outputs": [
    {
     "name": "stdout",
     "output_type": "stream",
     "text": [
      "[]\n"
     ]
    }
   ],
   "source": [
    "a=['Sunday', 'Tuesday', 'Wednesday', 'Monday']\n",
    "a.clear()\n",
    "print(a) # the output will be empty list."
   ]
  },
  {
   "cell_type": "markdown",
   "metadata": {},
   "source": [
    "##### Other few methods avaialble in the lists\n",
    "#Method\tDescription\n",
    "#append()\tAdds an element at the end of the list\n",
    "#clear()\tRemoves all the elements from the list\n",
    "#copy()\tReturns a copy of the list\n",
    "#count()\tReturns the number of elements with the specified value\n",
    "#extend()\tAdd the elements of a list (or any iterable), to the end of the current list\n",
    "#index()\tReturns the index of the first element with the specified value\n",
    "#insert()\tAdds an element at the specified position\n",
    "#pop()\tRemoves the element at the specified position\n",
    "#remove()\tRemoves the item with the specified value\n",
    "#reverse()\tReverses the order of the list\n",
    "#sort()\tSorts the list"
   ]
  },
  {
   "cell_type": "code",
   "execution_count": 62,
   "metadata": {},
   "outputs": [
    {
     "name": "stdout",
     "output_type": "stream",
     "text": [
      "['Monday', 'Sunday', 'Tuesday', 'Wednesday']\n"
     ]
    }
   ],
   "source": [
    "a=['Sunday', 'Tuesday', 'Wednesday', 'Monday']\n",
    "a.sort()\n",
    "print(a)"
   ]
  },
  {
   "cell_type": "code",
   "execution_count": 68,
   "metadata": {},
   "outputs": [
    {
     "name": "stdout",
     "output_type": "stream",
     "text": [
      "[1, 10, 11, 23, 34, 45, 89, 100]\n"
     ]
    }
   ],
   "source": [
    "a=[1,10,11,100,45,34,23,89]\n",
    "a.sort()\n",
    "print(a)"
   ]
  }
 ],
 "metadata": {
  "kernelspec": {
   "display_name": "Python 3",
   "language": "python",
   "name": "python3"
  },
  "language_info": {
   "codemirror_mode": {
    "name": "ipython",
    "version": 3
   },
   "file_extension": ".py",
   "mimetype": "text/x-python",
   "name": "python",
   "nbconvert_exporter": "python",
   "pygments_lexer": "ipython3",
   "version": "3.7.0"
  }
 },
 "nbformat": 4,
 "nbformat_minor": 2
}
